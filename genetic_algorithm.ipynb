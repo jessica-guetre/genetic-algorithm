{
 "cells": [
  {
   "cell_type": "code",
   "execution_count": 8,
   "metadata": {
    "tags": []
   },
   "outputs": [],
   "source": [
    "# Import libraries\n",
    "import numpy as np"
   ]
  },
  {
   "cell_type": "code",
   "execution_count": 12,
   "metadata": {
    "tags": []
   },
   "outputs": [],
   "source": [
    "# Function to calculate the fitness of a chromosome, given by the sum of 1 values.\n",
    "def fitness_function(chromosome):\n",
    "    return chromosome.sum()\n",
    "\n",
    "# Function to randomly initialize binary chromosomes.\n",
    "def initialize_population(population_size, chromosome_length):\n",
    "    return np.random.choice([0, 1], (population_size, chromosome_length))\n",
    "\n",
    "# Function to perform roulette wheel selection given by a fitness value.\n",
    "def roulette_wheel_selection(population, fitness_values):\n",
    "    probability = fitness_values / np.sum(fitness_values)\n",
    "    indices = np.random.choice(population.shape[0], population.shape[0], p=probability)\n",
    "    return population[indices]\n",
    "\n",
    "# Function to combine two parent chromosomes at a given crossover rate.\n",
    "def single_point_crossover(parent1, parent2, crossover_rate):\n",
    "    if np.random.rand() < crossover_rate:\n",
    "        crossover_point = np.random.randint(1, parent1.shape[0])\n",
    "        child1 = np.concatenate([parent1[:crossover_point], parent2[crossover_point:]])\n",
    "        child2 = np.concatenate([parent2[:crossover_point], parent1[crossover_point:]])\n",
    "        return child1, child2\n",
    "    else:\n",
    "        return parent1, parent2\n",
    "\n",
    "# Function that mutates genes in the child chromosome at a given mutation rate.\n",
    "def bitwise_mutation(chromosome, mutation_rate):\n",
    "    mutation_indices = np.random.rand(len(chromosome)) < mutation_rate\n",
    "    chromosome[mutation_indices] = 1 - chromosome[mutation_indices]\n",
    "    return chromosome\n",
    "\n",
    "# Function to perform main genetic algorithm loop\n",
    "def genetic_algorithm(population_size, chromosome_length, crossover_rate, mutation_rate, runs):\n",
    "    generations_to_discovery = []\n",
    "\n",
    "    # Iterate specified nbumber of runs\n",
    "    for run in range(runs):\n",
    "        generation = 0\n",
    "        not_found = True\n",
    "        population = initialize_population(population_size, chromosome_length)\n",
    "\n",
    "        # Iterate through generations while an optimal solution hasn't been found yet\n",
    "        while not_found:\n",
    "            # Calculate the fitness aand best fitness of the currenrt population\n",
    "            fitness = np.array([fitness_function(ind) for ind in population])\n",
    "            best_fitness = np.max(fitness)\n",
    "\n",
    "            # Break the loop if an optimal fitness has been found\n",
    "            if best_fitness == chromosome_length:\n",
    "                generations_to_discovery.append(generation)\n",
    "                not_found = False\n",
    "                break\n",
    "\n",
    "            # Use the roulette wheel selection to get a selection of parent chromosomes\n",
    "            parents = roulette_wheel_selection(population, fitness)\n",
    "            new_population = []\n",
    "\n",
    "            # Iterate through population\n",
    "            i = 0\n",
    "            while i < population_size:\n",
    "               # Select parents\n",
    "                parent1 = parents[i]\n",
    "                parent2 = parents[i + 1]\n",
    "\n",
    "                # Perform single point crossover to get children\n",
    "                child1, child2 = single_point_crossover(parent1, parent2, crossover_rate)\n",
    "\n",
    "                # Perform bitwise mutation on children\n",
    "                child1 = bitwise_mutation(child1, mutation_rate)\n",
    "                child2 = bitwise_mutation(child2, mutation_rate)\n",
    "\n",
    "                # Add children to new population and iterate i\n",
    "                new_population.extend([child1, child2])\n",
    "                i += 2\n",
    "\n",
    "            # Create numpy array from new population and iterate generation number\n",
    "            population = np.array(new_population)\n",
    "            generation += 1\n",
    "\n",
    "    # Return the mean number of generations to find the best fitness\n",
    "    return np.mean(generations_to_discovery)    "
   ]
  },
  {
   "cell_type": "code",
   "execution_count": 18,
   "metadata": {},
   "outputs": [],
   "source": [
    "# Perform experiments with different mutation and crossover rates\n",
    "mutation_rates = [0.001, 0.01, 0.1]\n",
    "crossover_rates = [0.7, 0.5, 0.3, 0]\n",
    "runs = 20\n",
    "population_size = 100\n",
    "chromosome_length = 20"
   ]
  },
  {
   "cell_type": "code",
   "execution_count": 19,
   "metadata": {},
   "outputs": [
    {
     "name": "stdout",
     "output_type": "stream",
     "text": [
      "Mutation Rate: 0.001, Crossover Rate: 0.7, Average Generations: 24.95\n",
      "Mutation Rate: 0.001, Crossover Rate: 0.5, Average Generations: 34.25\n",
      "Mutation Rate: 0.001, Crossover Rate: 0.3, Average Generations: 36.95\n",
      "Mutation Rate: 0.001, Crossover Rate: 0, Average Generations: 236.65\n",
      "Mutation Rate: 0.01, Crossover Rate: 0.7, Average Generations: 26.65\n",
      "Mutation Rate: 0.01, Crossover Rate: 0.5, Average Generations: 40.55\n",
      "Mutation Rate: 0.01, Crossover Rate: 0.3, Average Generations: 47.4\n",
      "Mutation Rate: 0.01, Crossover Rate: 0, Average Generations: 86.85\n",
      "Mutation Rate: 0.1, Crossover Rate: 0.7, Average Generations: 638.25\n",
      "Mutation Rate: 0.1, Crossover Rate: 0.5, Average Generations: 753.1\n",
      "Mutation Rate: 0.1, Crossover Rate: 0.3, Average Generations: 582.8\n",
      "Mutation Rate: 0.1, Crossover Rate: 0, Average Generations: 902.85\n"
     ]
    }
   ],
   "source": [
    "for mutation_rate in mutation_rates:\n",
    "    for crossover_rate in crossover_rates:\n",
    "        avg_generations = genetic_algorithm(population_size, chromosome_length, crossover_rate, mutation_rate, runs)\n",
    "        print(f\"Mutation Rate: {mutation_rate}, Crossover Rate: {crossover_rate}, Average Generations: {avg_generations}\")"
   ]
  },
  {
   "cell_type": "code",
   "execution_count": null,
   "metadata": {},
   "outputs": [],
   "source": [
    "# Mutation Rate: 0.001, Crossover Rate: 0.7, Average Generations: 35.35\n",
    "# Mutation Rate: 0.001, Crossover Rate: 0.5, Average Generations: 40.15\n",
    "# Mutation Rate: 0.001, Crossover Rate: 0.3, Average Generations: 51.9\n",
    "# Mutation Rate: 0.01, Crossover Rate: 0.7, Average Generations: 27.25\n",
    "# Mutation Rate: 0.01, Crossover Rate: 0.5, Average Generations: 35.95\n",
    "# Mutation Rate: 0.01, Crossover Rate: 0.3, Average Generations: 37.35"
   ]
  }
 ],
 "metadata": {
  "kernelspec": {
   "display_name": "Python 3 (ipykernel)",
   "language": "python",
   "name": "python3"
  },
  "language_info": {
   "codemirror_mode": {
    "name": "ipython",
    "version": 3
   },
   "file_extension": ".py",
   "mimetype": "text/x-python",
   "name": "python",
   "nbconvert_exporter": "python",
   "pygments_lexer": "ipython3",
   "version": "3.11.5"
  }
 },
 "nbformat": 4,
 "nbformat_minor": 4
}
